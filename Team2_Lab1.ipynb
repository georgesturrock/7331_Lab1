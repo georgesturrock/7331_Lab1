{
 "cells": [
  {
   "cell_type": "markdown",
   "metadata": {},
   "source": [
    "## Data Types and Meaning\n",
    "The base team data from the Lahman baseball database contains forty-eight different attributes.  The grain of the team data is at the season and team level.  The attributes can be divided into three general categories:  informational, offense and pitching.  Informational attributes are descriptive elements about the team.  These include unique team identifiers, league membership, division membership, post-season success indicators and home ballpark information.  Convential team offensive statistics such as total hits, at bats and home runs are also present.  Team Pitching statitistics such as earned run average (ERA), saves and strikeouts are available for analysis as well.  "
   ]
  },
  {
   "cell_type": "markdown",
   "metadata": {},
   "source": [
    "| ﻿Attribute     | Type    | Description                                                                          |\n",
    "|----------------|---------|--------------------------------------------------------------------------------------|\n",
    "| yearID         | int64   | The professional baseball season.                                                    |\n",
    "| lgID           | object  | The league to which the team was a member during the specified year.                 |\n",
    "| teamID         | object  | Unique identifier for the professional baseball team.                                |\n",
    "| franchID       | object  | Unique identifier for the professional baseball franchise.                           |\n",
    "| divID          | object  | The division within the league to which the team belonged during the specified year. |\n",
    "| Rank           | int64   | The team's finishing rank in their division for the specified year.                  |\n",
    "| G              | int64   | The number of games played by the team during the specified year.                    |\n",
    "| Ghome          | float64 | The number of home games played by the team during the specified year.               |\n",
    "| W              | int64   | Games won by the team during the year.                                               |\n",
    "| L              | int64   | Games lost by the team during the year.                                              |\n",
    "| DivWin         | object  | Binary indicator showing if the team won their division during the year.             |\n",
    "| WCWin          | object  | Binary indicator showing if the team won a Wild Card Playoff game during the year.   |\n",
    "| LgWin          | object  | Binary inidcator showing if the team won their league during the year.               |\n",
    "| WSWin          | object  | Binary indicator showing if the team won the world series during the year.           |\n",
    "| R              | int64   | Total runs scored by the team during the year.                                       |\n",
    "| AB             | int64   | Total at bats by the team during the year.                                           |\n",
    "| H              | int64   | Total hist by the team during the year.                                              |\n",
    "| 2B             | int64   | Total doubles by the team during the year.                                           |\n",
    "| 3B             | int64   | Total triples by the team during the year.                                           |\n",
    "| HR             | int64   | Total home runs for the team during the year.                                        |\n",
    "| BB             | float64 | Total bases on balls or walks by the team during the year.                           |\n",
    "| SO             | float64 | Total strikeouts by the team during the year.                                        |\n",
    "| SB             | float64 | Total stolen bases by the team during the year.                                      |\n",
    "| CS             | float64 | Total number of team runners caught stealing during the year.                        |\n",
    "| HBP            | float64 | Total number of team hitters hit by a pitch during the year.                         |\n",
    "| SF             | float64 | Total number of sacrifice flies by the team during the year.                         |\n",
    "| RA             | int64   | Total number of runs allowed by the team during the year.                            |\n",
    "| ER             | int64   | Total number of earned runs surrendured by the team during the year.                 |\n",
    "| ERA            | int64   | Total team earned run average for the year.                                          |\n",
    "| CG             | int64   | Total number of complete games pitched by the team during the year.                  |\n",
    "| SHO            | int64   | Total number of shutouts pitched by the team during the year.                        |\n",
    "| SV             | int64   | Total number of saves recorded by the team during the year.                          |\n",
    "| IPouts         | int64   | Total outs pitched by the team during the year.                                      |\n",
    "| HA             | int64   | Total hits allowed by the team during the year.                                      |\n",
    "| HRA            | int64   | Total home runs allowed by the team during the year.                                 |\n",
    "| BBA            | int64   | Total bases on balls or walks allowed by the team during the year.                   |\n",
    "| SOA            | int64   | Total strikeouts by the team during the year.                                        |\n",
    "| E              | int64   | Total errors by the team during the year.                                            |\n",
    "| DP             | int64   | Total double plays by the team during the year.                                      |\n",
    "| FP             | float64 | Aggregate fielding percentage by the team during the year.                           |\n",
    "| name           | object  | The full name of the team during the year.                                           |\n",
    "| park           | object  | The name of the team's home ballpark during the year.                                |\n",
    "| attendance     | float64 | Total home attendance during the year.                                               |\n",
    "| BPF            | int64   | The three year park factor for batters.                                              |\n",
    "| PPF            | int64   | The three year park factor for hitters.                                              |\n",
    "| teamIDBR       | object  | Team ID used by Baseball Reference.                                                  |\n",
    "| teamIDlahman45 | object  | Team ID used in the Lahman baseball database.                                        |\n",
    "| teamIDretro    | object  | Team ID used by Retrosheet.                                                          |"
   ]
  },
  {
   "cell_type": "markdown",
   "metadata": {},
   "source": [
    "------"
   ]
  },
  {
   "cell_type": "code",
   "execution_count": null,
   "metadata": {},
   "outputs": [],
   "source": []
  }
 ],
 "metadata": {
  "kernelspec": {
   "display_name": "Python 3",
   "language": "python",
   "name": "python3"
  },
  "language_info": {
   "codemirror_mode": {
    "name": "ipython",
    "version": 3
   },
   "file_extension": ".py",
   "mimetype": "text/x-python",
   "name": "python",
   "nbconvert_exporter": "python",
   "pygments_lexer": "ipython3",
   "version": "3.5.5"
  }
 },
 "nbformat": 4,
 "nbformat_minor": 2
}
