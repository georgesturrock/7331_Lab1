{
 "cells": [
  {
   "cell_type": "markdown",
   "metadata": {},
   "source": [
    "# Data Mining - Lab 1\n",
    "### Team 2 - Patricia Goresen, Jeffrey Lancon, Brychan Manry, George Sturrock\n",
    "#### May 27, 2018\n",
    "------"
   ]
  },
  {
   "cell_type": "markdown",
   "metadata": {},
   "source": [
    "## Business Understanding\n",
    "\n",
    "Since its inception, statistical data analysis has been an integral part of the game.  Coaches, players, and baseball fans can\n",
    "recite many of these stats and often use them in coaching and team roster development decisions.  Books and movies have been based on the pursuit of utilizing baseball statistics to build the ultimate baseball team. They have even coined the term Sabermetrics: The empirical analysis of baseball, especially baseball statistics that measure in-game activity.\n",
    "\n",
    "The book; Moneyball: The Art of Winning an Unfair Game by Michael Lewis and a film based on the book, staring Brad Pitt and Jonah Hill, are about Billy Bean, General Manager of the Oakland Athletics who focuses on player/team Sabermetrics to assemble a competitive baseball team using limited funding during the 2002 and 2003 seasons. Billy Bean was able to field a competitive team with a salary budget of less than half of their larger markets competitors, by focusing on hiring undervalued players.  Despite the salary roadblock, the Athletics made the playoffs in 2002 & 2003.\n",
    "\n",
    "The source of baseball data for this lab is the Sean Lahman Baseball Database [\n",
    "http://www.seanlahman.com/baseball-archive/statistics/].  Often cited as the most complete baseball database, the data set includes twenty-seven data tables and millions of records covering most non-proprietary baseball data pertaining to offense, fielding, pitching, payroll, player demographics, team statistics, manager data and much more.  For this lab, the focus will be on team level data.  The team level data will be explored using graphical analysis using standard python libraries.  After data exploration is complete, statistical methods can be employed to determine variable correlation and/or outcome prediction using techniques such as principle component analysis (PCA) or logistic regression.  Predictive models will be verified to assure the output is useful.  For example, a logistic regression model will have its assumptions validated, competing models will be compared using best practice measurements such as Area Under the Curve (AUC), Specificity, Sensitivity and Misclassification Scores.  The outcomes of this study could provide helpful insights for baseball fans who play fantasy sports, baseball reporters and baseball managers to assist with building a more competitive team.  \n",
    "\n",
    "------"
   ]
  },
  {
   "cell_type": "markdown",
   "metadata": {},
   "source": [
    "## Data Types and Meaning\n",
    "\n",
    "The base team data from the Lahman baseball database contains forty-eight different attributes.  The grain of the team data is at the season and team level.  The attributes can be divided into three general categories:  informational, offense and pitching.  Informational attributes are descriptive elements about the team.  These include unique team identifiers, league membership, division membership, post-season success indicators and home ballpark information.  Convential team offensive statistics such as total hits, at bats and home runs are also present.  Team Pitching statitistics such as earned run average (ERA), saves and strikeouts are available for analysis as well.  "
   ]
  },
  {
   "cell_type": "markdown",
   "metadata": {},
   "source": [
    "| ﻿Attribute     | Type    | Description                                                                          |\n",
    "|----------------|---------|--------------------------------------------------------------------------------------|\n",
    "| yearID         | int64   | The professional baseball season.                                                    |\n",
    "| lgID           | object  | The league to which the team was a member during the specified year.                 |\n",
    "| teamID         | object  | Unique identifier for the professional baseball team.                                |\n",
    "| franchID       | object  | Unique identifier for the professional baseball franchise.                           |\n",
    "| divID          | object  | The division within the league to which the team belonged during the specified year. |\n",
    "| Rank           | int64   | The team's finishing rank in their division for the specified year.                  |\n",
    "| G              | int64   | The number of games played by the team during the specified year.                    |\n",
    "| Ghome          | float64 | The number of home games played by the team during the specified year.               |\n",
    "| W              | int64   | Games won by the team during the year.                                               |\n",
    "| L              | int64   | Games lost by the team during the year.                                              |\n",
    "| DivWin         | object  | Binary indicator showing if the team won their division during the year.             |\n",
    "| WCWin          | object  | Binary indicator showing if the team won a Wild Card Playoff game during the year.   |\n",
    "| LgWin          | object  | Binary inidcator showing if the team won their league during the year.               |\n",
    "| WSWin          | object  | Binary indicator showing if the team won the world series during the year.           |\n",
    "| R              | int64   | Total runs scored by the team during the year.                                       |\n",
    "| AB             | int64   | Total at bats by the team during the year.                                           |\n",
    "| H              | int64   | Total hist by the team during the year.                                              |\n",
    "| 2B             | int64   | Total doubles by the team during the year.                                           |\n",
    "| 3B             | int64   | Total triples by the team during the year.                                           |\n",
    "| HR             | int64   | Total home runs for the team during the year.                                        |\n",
    "| BB             | float64 | Total bases on balls or walks by the team during the year.                           |\n",
    "| SO             | float64 | Total strikeouts by the team during the year.                                        |\n",
    "| SB             | float64 | Total stolen bases by the team during the year.                                      |\n",
    "| CS             | float64 | Total number of team runners caught stealing during the year.                        |\n",
    "| HBP            | float64 | Total number of team hitters hit by a pitch during the year.                         |\n",
    "| SF             | float64 | Total number of sacrifice flies by the team during the year.                         |\n",
    "| RA             | int64   | Total number of runs allowed by the team during the year.                            |\n",
    "| ER             | int64   | Total number of earned runs surrendured by the team during the year.                 |\n",
    "| ERA            | int64   | Total team earned run average for the year.                                          |\n",
    "| CG             | int64   | Total number of complete games pitched by the team during the year.                  |\n",
    "| SHO            | int64   | Total number of shutouts pitched by the team during the year.                        |\n",
    "| SV             | int64   | Total number of saves recorded by the team during the year.                          |\n",
    "| IPouts         | int64   | Total outs pitched by the team during the year.                                      |\n",
    "| HA             | int64   | Total hits allowed by the team during the year.                                      |\n",
    "| HRA            | int64   | Total home runs allowed by the team during the year.                                 |\n",
    "| BBA            | int64   | Total bases on balls or walks allowed by the team during the year.                   |\n",
    "| SOA            | int64   | Total strikeouts by the team during the year.                                        |\n",
    "| E              | int64   | Total errors by the team during the year.                                            |\n",
    "| DP             | int64   | Total double plays by the team during the year.                                      |\n",
    "| FP             | float64 | Aggregate fielding percentage by the team during the year.                           |\n",
    "| name           | object  | The full name of the team during the year.                                           |\n",
    "| park           | object  | The name of the team's home ballpark during the year.                                |\n",
    "| attendance     | float64 | Total home attendance during the year.                                               |\n",
    "| BPF            | int64   | The three year park factor for batters.                                              |\n",
    "| PPF            | int64   | The three year park factor for hitters.                                              |\n",
    "| teamIDBR       | object  | Team ID used by Baseball Reference.                                                  |\n",
    "| teamIDlahman45 | object  | Team ID used in the Lahman baseball database.                                        |\n",
    "| teamIDretro    | object  | Team ID used by Retrosheet.                                                          |"
   ]
  },
  {
   "cell_type": "markdown",
   "metadata": {},
   "source": [
    "------"
   ]
  },
  {
   "cell_type": "code",
   "execution_count": null,
   "metadata": {},
   "outputs": [],
   "source": []
  }
 ],
 "metadata": {
  "kernelspec": {
   "display_name": "Python 3",
   "language": "python",
   "name": "python3"
  },
  "language_info": {
   "codemirror_mode": {
    "name": "ipython",
    "version": 3
   },
   "file_extension": ".py",
   "mimetype": "text/x-python",
   "name": "python",
   "nbconvert_exporter": "python",
   "pygments_lexer": "ipython3",
   "version": "3.5.5"
  }
 },
 "nbformat": 4,
 "nbformat_minor": 2
}
